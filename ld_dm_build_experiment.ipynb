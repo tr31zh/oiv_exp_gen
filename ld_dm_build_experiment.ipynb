{
 "cells": [
  {
   "cell_type": "markdown",
   "metadata": {},
   "source": [
    "# Build Experiment Dataset"
   ]
  },
  {
   "cell_type": "markdown",
   "metadata": {},
   "source": [
    "## Imports"
   ]
  },
  {
   "cell_type": "code",
   "execution_count": null,
   "metadata": {},
   "outputs": [],
   "source": [
    "import io \n",
    "import itertools\n",
    "\n",
    "import numpy as np\n",
    "import pandas as pd\n",
    "\n",
    "import altair as alt\n",
    "\n",
    "import panel as pn"
   ]
  },
  {
   "cell_type": "markdown",
   "metadata": {},
   "source": [
    "## Setup"
   ]
  },
  {
   "cell_type": "code",
   "execution_count": null,
   "metadata": {},
   "outputs": [],
   "source": [
    "pn.extension(\"tabulator\", \"vega\", notifications=True, console_output=\"disable\")\n",
    "template = pn.template.BootstrapTemplate(title=\"OIV DataIn Generator\")"
   ]
  },
  {
   "cell_type": "code",
   "execution_count": null,
   "metadata": {},
   "outputs": [],
   "source": [
    "alt.data_transformers.disable_max_rows()"
   ]
  },
  {
   "cell_type": "markdown",
   "metadata": {},
   "source": [
    "## UI"
   ]
  },
  {
   "cell_type": "markdown",
   "metadata": {},
   "source": [
    "### Functions"
   ]
  },
  {
   "cell_type": "code",
   "execution_count": null,
   "metadata": {},
   "outputs": [],
   "source": [
    "def expand_genotypes(genotypes, counts):\n",
    "    nested_list = [[g for _ in range(q)] for g, q in zip(genotypes, counts)]\n",
    "    return nested_list\n",
    "\n",
    "\n",
    "def flatten_genotypes(nested_list):\n",
    "    flatten_list = []\n",
    "    for l in nested_list:\n",
    "        for e in l:\n",
    "            flatten_list.append(e)\n",
    "    flatten_list = np.array(flatten_list)\n",
    "    np.random.shuffle(flatten_list)\n",
    "    flatten_list\n",
    "\n",
    "    out = []\n",
    "    for fd in flatten_list:\n",
    "        for _ in range(3):\n",
    "            out.append(fd)\n",
    "    return out\n",
    "\n",
    "\n",
    "def build_table(genptypes, strains, first_plate_number):\n",
    "    plates_count = (len(genptypes) // 12) + 1\n",
    "\n",
    "    row = [\"a\", \"b\", \"c\"]\n",
    "    column = [1, 2, 3, 4]\n",
    "\n",
    "    return pd.concat(\n",
    "        [\n",
    "            pd.DataFrame(\n",
    "                data=itertools.product(\n",
    "                    [\n",
    "                        first_plate_number + i + (idx * plates_count)\n",
    "                        for i in range(plates_count)\n",
    "                    ],\n",
    "                    column,\n",
    "                    row,\n",
    "                ),\n",
    "                columns=[\"plaque\", \"colonne\", \"ligne\"],\n",
    "            )\n",
    "            .assign(\n",
    "                genotype=genptypes\n",
    "                + [np.nan for _ in range(plates_count * 12 - len(genptypes))]\n",
    "            )\n",
    "            .assign(isolat=current_strain)\n",
    "            for idx, current_strain in enumerate(strains)\n",
    "        ]\n",
    "    ).reset_index(drop=True)"
   ]
  },
  {
   "cell_type": "markdown",
   "metadata": {},
   "source": [
    "### Widgets"
   ]
  },
  {
   "cell_type": "code",
   "execution_count": null,
   "metadata": {},
   "outputs": [],
   "source": [
    "csv_input = pn.widgets.FileInput(accept=\".csv\", sizing_mode=\"scale_width\")\n",
    "csv_out = pn.widgets.Tabulator(\n",
    "    pagination=\"local\", page_size=12, header_filters=True, sizing_mode=\"scale_width\"\n",
    ")\n",
    "ti_strains = pn.widgets.TextAreaInput(\n",
    "    name=\"Isolats\",\n",
    "    placeholder=\"Entrer les isolats séparés par des ';'\",\n",
    "    value=\"Colmar;\",\n",
    "    sizing_mode=\"stretch_width\",\n",
    ")\n",
    "bt_generate = pn.widgets.Button(name=\"Générer\", sizing_mode=\"scale_width\")\n",
    "\n",
    "filename, bt_download = csv_out.download_menu(\n",
    "    text_kwargs={'name': 'Enter filename', 'value': 'experiment.csv'},\n",
    "    button_kwargs={'name': 'Download table'}\n",
    ")\n",
    "\n",
    "vg_output = pn.pane.Vega()"
   ]
  },
  {
   "cell_type": "markdown",
   "metadata": {},
   "source": [
    "### Callbacks"
   ]
  },
  {
   "cell_type": "code",
   "execution_count": null,
   "metadata": {},
   "outputs": [],
   "source": [
    "def build_csv(event):\n",
    "    try:\n",
    "        csv = pd.read_csv(io.BytesIO(csv_input.value), sep=\";\")\n",
    "    except:\n",
    "        pn.state.notifications.error(\"Please load a valid file\", duration=5000)\n",
    "        return\n",
    "\n",
    "    csv.columns = map(str.lower, csv.columns)\n",
    "    csv = csv.rename(columns={\"gen\": \"genotype\"})\n",
    "    csv_ctrl = csv[csv.ctrl == 1].drop([\"ctrl\", \"cpm\", \"id\"], axis=1)\n",
    "    csv_exp = csv[csv.ctrl == 0].drop([\"ctrl\", \"cpm\", \"id\"], axis=1)\n",
    "\n",
    "    isolats = [s for s in ti_strains.value.replace(\"\\n\", \";\").split(\";\") if s]\n",
    "    try:\n",
    "        assert len(isolats) > 0\n",
    "    except:\n",
    "        pn.state.notifications.error(\n",
    "            \"At least one strain must be present\", duration=5000\n",
    "        )\n",
    "        return\n",
    "    ctrl = build_table(\n",
    "        flatten_genotypes(expand_genotypes(csv_ctrl.genotype, csv_ctrl.nb_col)),\n",
    "        isolats,\n",
    "        first_plate_number=1,\n",
    "    )\n",
    "    exp = build_table(\n",
    "        flatten_genotypes(expand_genotypes(csv_exp.genotype, csv_exp.nb_col)),\n",
    "        isolats,\n",
    "        first_plate_number=ctrl.plaque.max() + 1,\n",
    "    )\n",
    "    out = (\n",
    "        pd.concat([ctrl, exp])\n",
    "        .merge(csv.drop([\"nb_col\"], axis=1), on=\"genotype\", how=\"left\")\n",
    "        .assign(x=lambda x: x.colonne)\n",
    "        .assign(y=lambda x: np.where(x.ligne == \"a\", 1, np.where(x.ligne == \"b\", 2, 3)))\n",
    "        .assign(ctrl=lambda x: x.ctrl.fillna(\"vide\"))\n",
    "    )\n",
    "\n",
    "    csv_out.value = out\n",
    "\n",
    "    csv_out.editors = {\n",
    "        \"ligne\": {\"type\": \"list\", \"valuesLookup\": True},\n",
    "        \"genotype\": {\"type\": \"list\", \"valuesLookup\": True},\n",
    "        \"isolat\": {\"type\": \"list\", \"valuesLookup\": True},\n",
    "        \"id\": {\"type\": \"list\", \"valuesLookup\": True},\n",
    "        \"cpm\": {\"type\": \"list\", \"valuesLookup\": True},\n",
    "    }\n",
    "\n",
    "    vg_output.object = alt.hconcat(\n",
    "        *[\n",
    "            alt.Chart(out.fillna(\"vide\"))\n",
    "            .mark_bar()\n",
    "            .encode(\n",
    "                x=alt.X(c, axis=alt.Axis(labelAngle=-45)),\n",
    "                y=\"count()\",\n",
    "                color=\"ctrl\",\n",
    "                tooltip=[\"genotype\", \"count()\"],\n",
    "            ).properties(height=250)\n",
    "            for c in [\"genotype\", \"isolat\"]\n",
    "        ]\n",
    "    ).interactive()\n",
    "\n",
    "\n",
    "bt_generate.on_click(build_csv)"
   ]
  },
  {
   "cell_type": "markdown",
   "metadata": {},
   "source": [
    "### Show"
   ]
  },
  {
   "cell_type": "code",
   "execution_count": null,
   "metadata": {},
   "outputs": [],
   "source": [
    "cd_settings = pn.Card(\n",
    "    csv_input,\n",
    "    ti_strains,\n",
    "    bt_generate,\n",
    "    title=\"Experiment setup\",\n",
    "    sizing_mode=\"scale_width\",\n",
    ")\n",
    "\n",
    "cd_download = pn.Card(\n",
    "    filename,\n",
    "    bt_download,\n",
    "    title=\"Download table\",\n",
    "    sizing_mode=\"scale_width\",\n",
    ")\n",
    "\n",
    "template.sidebar.append(cd_settings)\n",
    "template.sidebar.append(cd_download)\n",
    "template.main.append(pn.Column(csv_out, vg_output))\n",
    "template.servable()"
   ]
  },
  {
   "cell_type": "code",
   "execution_count": null,
   "metadata": {},
   "outputs": [],
   "source": []
  }
 ],
 "metadata": {
  "kernelspec": {
   "display_name": "env",
   "language": "python",
   "name": "python3"
  },
  "language_info": {
   "codemirror_mode": {
    "name": "ipython",
    "version": 3
   },
   "file_extension": ".py",
   "mimetype": "text/x-python",
   "name": "python",
   "nbconvert_exporter": "python",
   "pygments_lexer": "ipython3",
   "version": "3.12.2"
  }
 },
 "nbformat": 4,
 "nbformat_minor": 2
}
